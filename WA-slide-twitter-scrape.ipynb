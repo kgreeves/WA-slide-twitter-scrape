{
 "cells": [
  {
   "cell_type": "code",
   "execution_count": 1,
   "metadata": {},
   "outputs": [],
   "source": [
    "import sys,tweepy\n",
    "import pandas as pd\n",
    "import webbrowser\n",
    "from datetime import datetime, date, time, timedelta\n",
    "#pip3 install tweepy\n",
    "#https://docs.tweepy.org/en/latest/\n",
    "\n",
    "##Resources Consulted:\n",
    "#https://blog.f-secure.com/how-to-get-tweets-from-a-twitter-account-using-python-and-tweepy/"
   ]
  },
  {
   "cell_type": "markdown",
   "metadata": {},
   "source": [
    "## Interesting Tasks\n",
    "\n",
    "- Photo and corresponding geolocation\n",
    "- RT coming from which accounts. Add to account_list?\n",
    "- Local accounts with GPS in WA state?"
   ]
  },
  {
   "cell_type": "code",
   "execution_count": 2,
   "metadata": {},
   "outputs": [],
   "source": [
    "#To avoid updating the Git server with secret keys and tokens, we put the sensitive information in a separate \n",
    "#notebook and add this file the .gitignore file.\n",
    "%run './Authentication-Keys-and-Tokens.ipynb'"
   ]
  },
  {
   "cell_type": "code",
   "execution_count": null,
   "metadata": {},
   "outputs": [],
   "source": []
  },
  {
   "cell_type": "code",
   "execution_count": 3,
   "metadata": {},
   "outputs": [
    {
     "name": "stdout",
     "output_type": "stream",
     "text": [
      "RT @wsdot_tacoma: So close we can almost taste it! Crews are nearing completion of a two-year rehab project to restore the SR 107 Chehalis…\n"
     ]
    }
   ],
   "source": [
    "if __name__ == '__main__':\n",
    "    \n",
    "    #If you want to manually enter the accounts and numbers of tweets.It would be better to define a list, I think.\n",
    "    #user = input(\"Enter username: \")\n",
    "    #num_tweets = input(\"Enter number of tweets: \")\n",
    "    \n",
    "    client = get_twitter_client()\n",
    "    for status in tweepy.Cursor(client.user_timeline, id=\"wsdot\", tweet_mode=\"extended\").items(1):\n",
    "        #print(dir(status)) #Properties/methods of the JSON returned\n",
    "        print(status.full_text)\n",
    "        #print(status)\n"
   ]
  },
  {
   "cell_type": "code",
   "execution_count": 35,
   "metadata": {},
   "outputs": [
    {
     "name": "stdout",
     "output_type": "stream",
     "text": [
      "Getting data for wsdot\n",
      "name: Washington State DOT\n",
      "screen_name: wsdot\n",
      "description: Official Washington State Department of Transportation Twitter account. For road hazards and emergencies, please call 911.\n",
      "statuses_count: 40305\n",
      "friends_count: 7398\n",
      "followers_count: 303630\n",
      "27/1027 tweets in the previous 90 days from\n",
      "wsdot mention 'slide.'\n"
     ]
    }
   ],
   "source": [
    "#Performing a Keyword Search\n",
    "if __name__ == '__main__':\n",
    "\n",
    "    client = get_twitter_client()\n",
    "\n",
    "    account_list = ['wsdot']\n",
    "    keywords = ['slide']\n",
    "    time_window = 90\n",
    "    \n",
    "    for target in account_list:\n",
    "        print(\"Getting data for \" + target)\n",
    "        item = client.get_user(target)\n",
    "        print(\"name: \" + item.name)\n",
    "        print(\"screen_name: \" + item.screen_name)\n",
    "        print(\"description: \" + item.description)\n",
    "        print(\"statuses_count: \" + str(item.statuses_count))\n",
    "        print(\"friends_count: \" + str(item.friends_count))\n",
    "        print(\"followers_count: \" + str(item.followers_count))\n",
    "    \n",
    "    \n",
    "    last_search = datetime.utcnow() - timedelta(days=time_window)\n",
    "    \n",
    "    tweet_count=0; slide_count=0; slide_tweets = []; RT_accounts = [];\n",
    "    for status in tweepy.Cursor(client.user_timeline, id=\"wsdot\", tweet_mode=\"extended\").items():\n",
    "        \n",
    "        tweet_count += 1\n",
    "        #print(dir(status)) #Properties/methods of the JSON returned\n",
    "        if(status.full_text.lower().find(keywords[0])!=-1):\n",
    "            slide_count += 1\n",
    "            slide_tweets.append(status.full_text)\n",
    "            if(status.full_text.find('RT')!=-1):\n",
    "                tempAccountName = str(status.full_text.split()[1][1:-1])\n",
    "                if( (tempAccountName in RT_accounts) == False):\n",
    "                    RT_accounts.append(tempAccountName)\n",
    "        \n",
    "        if status.created_at < last_search:\n",
    "            break\n",
    "        #print(status)\n",
    "\n",
    "print(str(slide_count)+\"/\"+str(tweet_count)+\" tweets in the previous \"+str(time_window)+\" days from\\n\"\n",
    "      +str(account_list[0])+\" mention \\'\"+keywords[0]+\".'\")"
   ]
  },
  {
   "cell_type": "code",
   "execution_count": 36,
   "metadata": {},
   "outputs": [
    {
     "data": {
      "text/plain": [
       "['wsdot_tacoma', 'wsdot_north', 'WSDOT_East', 'SnoqualmiePass', 'wsdot_sw']"
      ]
     },
     "execution_count": 36,
     "metadata": {},
     "output_type": "execute_result"
    }
   ],
   "source": [
    "RT_accounts"
   ]
  },
  {
   "cell_type": "code",
   "execution_count": 37,
   "metadata": {},
   "outputs": [
    {
     "data": {
      "text/plain": [
       "[\"RT @wsdot_tacoma: We're all clear on US 101. Both lanes have reopened after this slide. https://t.co/qMStMaQgn3\",\n",
       " 'It was around this time 7 years ago that the Oso landslide occurred. It was a devastating day for so many, and we send our thoughts to all affected by that life changing event. https://t.co/2XnNr9WnTe',\n",
       " \"@NWSSpokane To clarify, this isn't the beginning of reopening SR 20. This was clearing a snow slide that happened earlier this week.\",\n",
       " 'RT @wsdot_north: SR 20 UPDATE: Our crews were out today to start clearing snow off the highway. They were able to clean up one snowslide so…',\n",
       " \"RT @wsdot_north: And here's a look at the latest snowslide to fall across SR 20/North Cascades Highway. This will take some time to clear,…\",\n",
       " 'RT @wsdot_north: ❄️Well, it happened again overnight. Another snowslide near Newhalem on SR 20/North Cascades Highway. All lanes blocked at…',\n",
       " 'RT @WSDOT_East: US 2 Stevens pass highway is closed due to a snow slide. EB traffic is stopped at MP 57, WB traffic is stopped at MP 64.5,…',\n",
       " 'RT @WSDOT_East: On US 2 Stevens Pass, we were able to clear the slide and have reopened the pass with chains required (expect AWD/4WD). It…',\n",
       " 'RT @WSDOT_East: On US 2 east of Stevens Pass, another snow slide has brought down debris and covered all of one lane at MP 74. This is an u…',\n",
       " \"RT @SnoqualmiePass: What's happening now?\\n➡️Plows are clearing snow and debris brought down by avalanches last night. One slide covered 150…\",\n",
       " \"We saw a lot of slide and weather activity overnight on the passes. Five natural slides hit the road on Stevens Pass. A lot of work to do to clean up and evaluate before we're sure things are safe. https://t.co/FYntuq4wBD\",\n",
       " '@airczar121 @WSDOT_East @wsdot_passes Did a little more research. They had a natural slide come down this morning at 6:45 that had to be cleared. They started earlier because of that and a lot of snow came down. The twitter account updates when the website does. so both should say the same thing.',\n",
       " '@olkurrukur @ChristinaBirchm @wsdot_passes @stevensupdates We had to start early on US 2 because a 6ft  deep natural snow slide came down at 6:45 a.m. that needed to be cleared.',\n",
       " '@su6oxone @wsdot_passes There was a natural slide that came down at about 6:45 am, so we had to close earlier than we planned to.',\n",
       " \"For context on the US 2 Stevens avalanche closure: a natural slide came down rather than planned control work so we had to mobilize our crew. Then more snow came down. It's taking longer than usual. Here's a pic of the slide. @WSDOT_East is working on an ETA. https://t.co/kvwZJIcw0d\",\n",
       " 'RT @WSDOT_East: The slide on US 2 Pine Canyon east of Orondo dropped 300 yards of material and exposed a truck sized boulder. That rock is…',\n",
       " 'Heads up that US 2 is closed near Orondo due to a rock slide. This is about 35 miles northeast of Leavenworth. No estimate for reopening. Follow @WSDOT_East for updates. https://t.co/t3Ak9jSK1n',\n",
       " 'RT @wsdot_tacoma: Plans to reopen SR 112 in #ClallamCounty are moving forward after 5 separate slides closed the highway over a month ago.…',\n",
       " 'RT @wsdot_tacoma: SR 109 near Hoquiam remains closed until further notice due to mudslide. A detour is in place using SR 109 Spur, US 101,…',\n",
       " 'RT @wsdot_tacoma: Updated: Slide on SR 109 effecting both directions at MP 3 near Grays Harbor Blvd beginning at 2:09 pm on Jan. 17, 2021 u…',\n",
       " 'RT @wsdot_sw: Good news! Crews have cleaned up landslide debris and all lanes of SR 14 about 7-miles east of Carson are now OPEN!\\n\\nThe high…',\n",
       " 'RT @wsdot_sw: Both directions of SR 14 remain closed to ALL traffic about 7-miles east of Carson, due to a debris slide blocking the highwa…',\n",
       " \"RT @wsdot_sw: Reminder: Both directions of SR 14 about 7-miles east of Carson are CLOSED due to a debris slide blocking all lanes. We're on…\",\n",
       " \"It's a very challenging Wednesday. High wind/rain have knocked out power, brought down trees/debris/power lines &amp; led to slides. There are multiple closures:\\n▪️ Web: https://t.co/fP5Z4olCnQ\\n▪️ App: https://t.co/KnVmTEeeND\\n▪️ Social: https://t.co/PGy5NHNK3S\",\n",
       " 'RT @wsdot_sw: Both directions of SR 14 about 7-miles east of Carson are CLOSED due to a debris slide blocking all lanes. The highway will r…',\n",
       " \"Good morning. Today's weather is no joke. There's standing water, slides, heavy snow in the passes. Please:\\n▪️ Do not go around road closed signs\\n▪️ Follow traction requirements\\n▪️ Give road workers plenty of room\\n▪️ Be prepared for delays/closures\\n#wawx\",\n",
       " 'RT @wsdot_tacoma: UPDATE: A fifth slide has been discovered along SR 112 at mp 36.9 in Clallam County due to nearby landslide activity. Our…']"
      ]
     },
     "execution_count": 37,
     "metadata": {},
     "output_type": "execute_result"
    }
   ],
   "source": [
    "slide_tweets"
   ]
  },
  {
   "cell_type": "code",
   "execution_count": null,
   "metadata": {},
   "outputs": [],
   "source": []
  },
  {
   "cell_type": "code",
   "execution_count": null,
   "metadata": {},
   "outputs": [],
   "source": []
  }
 ],
 "metadata": {
  "kernelspec": {
   "display_name": "Python 3",
   "language": "python",
   "name": "python3"
  },
  "language_info": {
   "codemirror_mode": {
    "name": "ipython",
    "version": 3
   },
   "file_extension": ".py",
   "mimetype": "text/x-python",
   "name": "python",
   "nbconvert_exporter": "python",
   "pygments_lexer": "ipython3",
   "version": "3.8.5"
  }
 },
 "nbformat": 4,
 "nbformat_minor": 4
}
