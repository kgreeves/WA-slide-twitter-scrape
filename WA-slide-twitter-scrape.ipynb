{
 "cells": [
  {
   "cell_type": "code",
   "execution_count": 5,
   "metadata": {},
   "outputs": [],
   "source": [
    "import sys,tweepy\n",
    "#import pandas as pd\n",
    "import webbrowser\n",
    "import time\n",
    "#pip3 install tweepy\n",
    "#https://docs.tweepy.org/en/latest/"
   ]
  },
  {
   "cell_type": "code",
   "execution_count": 7,
   "metadata": {},
   "outputs": [],
   "source": [
    "#To avoid updating the Git server with secret keys and tokens, we put the sensitive information in a separate \n",
    "#notebook and add this file the .gitignore file.\n",
    "%run './Authentication-Keys-and-Tokens.ipynb'"
   ]
  },
  {
   "cell_type": "code",
   "execution_count": null,
   "metadata": {},
   "outputs": [],
   "source": []
  },
  {
   "cell_type": "code",
   "execution_count": 9,
   "metadata": {},
   "outputs": [
    {
     "name": "stdout",
     "output_type": "stream",
     "text": [
      "Enter username: wsdot\n",
      "Enter number of tweets: 5\n",
      "The Adventures of Miss Barbara Pym by Paula Byrne – the ‘modern Jane Austen’? https://t.co/SaylLDZYDY\n",
      "Britons can be confident in vaccine monitoring, health secretary says https://t.co/9mUwdieza3 https://t.co/vzfYFKcRzK\n",
      "French winemakers light candles and burn bales of straw to try to protect their vineyards from sharp spring frosts… https://t.co/SDlaCb3QfD\n",
      "RT @MONTYOG: Myths die hard https://t.co/mXCdSxLU0X\n",
      "RT @LaurentMauduit: @ENA_fr : la grotesque pantalonnade continue. Après avoir annoncé trois fois la suppression de l'école, et y avoir reno…\n"
     ]
    }
   ],
   "source": [
    "if __name__ == '__main__':\n",
    "    user = input(\"Enter username: \")\n",
    "    num_tweets = input(\"Enter number of tweets: \")\n",
    "    client = get_twitter_client()\n",
    "    for status in tweepy.Cursor(client.home_timeline, screen_name=user).items(int(num_tweets)):\n",
    "        print(status.text)\n"
   ]
  },
  {
   "cell_type": "code",
   "execution_count": null,
   "metadata": {},
   "outputs": [],
   "source": []
  }
 ],
 "metadata": {
  "kernelspec": {
   "display_name": "Python 3",
   "language": "python",
   "name": "python3"
  },
  "language_info": {
   "codemirror_mode": {
    "name": "ipython",
    "version": 3
   },
   "file_extension": ".py",
   "mimetype": "text/x-python",
   "name": "python",
   "nbconvert_exporter": "python",
   "pygments_lexer": "ipython3",
   "version": "3.8.5"
  }
 },
 "nbformat": 4,
 "nbformat_minor": 4
}
