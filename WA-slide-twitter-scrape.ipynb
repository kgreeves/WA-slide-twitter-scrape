{
 "cells": [
  {
   "cell_type": "code",
   "execution_count": null,
   "metadata": {},
   "outputs": [],
   "source": [
    "import sys,tweepy\n",
    "import pandas as pd\n",
    "import webbrowser\n",
    "from datetime import datetime, date, time, timedelta\n",
    "#pip3 install tweepy\n",
    "#https://docs.tweepy.org/en/latest/\n",
    "\n",
    "##Resources Consulted:\n",
    "#https://blog.f-secure.com/how-to-get-tweets-from-a-twitter-account-using-python-and-tweepy/"
   ]
  },
  {
   "cell_type": "markdown",
   "metadata": {},
   "source": [
    "## Interesting Tasks\n",
    "\n",
    "- Photo and corresponding geolocation\n",
    "- RT coming from which accounts. Add to account_list?\n",
    "- Local accounts with GPS in WA state?"
   ]
  },
  {
   "cell_type": "code",
   "execution_count": null,
   "metadata": {},
   "outputs": [],
   "source": [
    "#To avoid updating the Git server with secret keys and tokens, we put the sensitive information in a separate \n",
    "#notebook and add this file the .gitignore file.\n",
    "%run './Authentication-Keys-and-Tokens.ipynb'"
   ]
  },
  {
   "cell_type": "code",
   "execution_count": null,
   "metadata": {},
   "outputs": [],
   "source": []
  },
  {
   "cell_type": "code",
   "execution_count": null,
   "metadata": {},
   "outputs": [],
   "source": [
    "if __name__ == '__main__':\n",
    "    \n",
    "    #If you want to manually enter the accounts and numbers of tweets.It would be better to define a list, I think.\n",
    "    #user = input(\"Enter username: \")\n",
    "    #num_tweets = input(\"Enter number of tweets: \")\n",
    "    \n",
    "    client = get_twitter_client()\n",
    "    for status in tweepy.Cursor(client.user_timeline, id=\"wsdot\", tweet_mode=\"extended\").items(1):\n",
    "        #print(dir(status)) #Properties/methods of the JSON returned\n",
    "        print(status.full_text)\n",
    "        #print(status)\n"
   ]
  },
  {
   "cell_type": "code",
   "execution_count": null,
   "metadata": {},
   "outputs": [],
   "source": [
    "#Performing a Keyword Search\n",
    "if __name__ == '__main__':\n",
    "\n",
    "    client = get_twitter_client()\n",
    "\n",
    "    account_list = ['wsdot']\n",
    "    keywords = ['slide']\n",
    "    time_window = 90\n",
    "    \n",
    "    for target in account_list:\n",
    "        print(\"Getting data for \" + target)\n",
    "        item = client.get_user(target)\n",
    "        print(\"name: \" + item.name)\n",
    "        print(\"screen_name: \" + item.screen_name)\n",
    "        print(\"description: \" + item.description)\n",
    "        print(\"statuses_count: \" + str(item.statuses_count))\n",
    "        print(\"friends_count: \" + str(item.friends_count))\n",
    "        print(\"followers_count: \" + str(item.followers_count))\n",
    "    \n",
    "    \n",
    "    last_search = datetime.utcnow() - timedelta(days=time_window)\n",
    "    \n",
    "    tweet_count=0; slide_count=0\n",
    "    for status in tweepy.Cursor(client.user_timeline, id=\"wsdot\", tweet_mode=\"extended\").items():\n",
    "        \n",
    "        tweet_count += 1\n",
    "        #print(dir(status)) #Properties/methods of the JSON returned\n",
    "        if(status.full_text.lower().find(keywords[0])!=-1):\n",
    "            slide_count += 1\n",
    "            print(status.full_text)\n",
    "        \n",
    "        if status.created_at < last_search:\n",
    "            break\n",
    "        #print(status)\n",
    "\n",
    "print(str(slide_count)+\"/\"+str(tweet_count)+\" tweets in the previous \"+str(time_window)+\" days from\\n\"\n",
    "      +str(account_list[0])+\" mention \\'\"+keywords[0]+\".'\")"
   ]
  },
  {
   "cell_type": "code",
   "execution_count": null,
   "metadata": {},
   "outputs": [],
   "source": []
  }
 ],
 "metadata": {
  "kernelspec": {
   "display_name": "Python 3",
   "language": "python",
   "name": "python3"
  },
  "language_info": {
   "codemirror_mode": {
    "name": "ipython",
    "version": 3
   },
   "file_extension": ".py",
   "mimetype": "text/x-python",
   "name": "python",
   "nbconvert_exporter": "python",
   "pygments_lexer": "ipython3",
   "version": "3.8.5"
  }
 },
 "nbformat": 4,
 "nbformat_minor": 4
}
